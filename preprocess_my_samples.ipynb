{
 "cells": [
  {
   "cell_type": "markdown",
   "metadata": {},
   "source": [
    "## Import packages"
   ]
  },
  {
   "cell_type": "code",
   "execution_count": 42,
   "metadata": {
    "ExecuteTime": {
     "end_time": "2020-02-27T02:25:14.546881Z",
     "start_time": "2020-02-27T02:25:14.533643Z"
    }
   },
   "outputs": [],
   "source": [
    "import os\n",
    "import warnings\n",
    "\n",
    "import librosa\n",
    "import numpy as np\n",
    "import scipy.io.wavfile\n",
    "from tqdm import tqdm_notebook\n",
    "\n",
    "from preprocess_utils import get_max_duration, pad_input, pipeline\n",
    "\n",
    "warnings.filterwarnings('ignore')"
   ]
  },
  {
   "cell_type": "markdown",
   "metadata": {},
   "source": [
    "## Obtain file paths of AudioMNIST wav files"
   ]
  },
  {
   "cell_type": "code",
   "execution_count": 43,
   "metadata": {
    "ExecuteTime": {
     "end_time": "2020-02-27T01:45:39.535864Z",
     "start_time": "2020-02-27T01:45:39.530451Z"
    }
   },
   "outputs": [],
   "source": [
    "audio_dir = './audio_samples'"
   ]
  },
  {
   "cell_type": "code",
   "execution_count": 44,
   "metadata": {
    "ExecuteTime": {
     "end_time": "2020-02-27T01:45:39.841611Z",
     "start_time": "2020-02-27T01:45:39.595982Z"
    }
   },
   "outputs": [],
   "source": [
    "male_wav_fpaths = [f'{audio_dir}/male/{f}' for f in os.listdir(audio_dir + '/male')]\n",
    "female_wav_fpaths = [f'{audio_dir}/female/{f}' for f in os.listdir(audio_dir + '/female')]"
   ]
  },
  {
   "cell_type": "code",
   "execution_count": 45,
   "outputs": [],
   "source": [
    "# Ensure same order across runs\n",
    "np.random.seed(13)\n",
    "np.random.shuffle(male_wav_fpaths)\n",
    "np.random.shuffle(female_wav_fpaths)"
   ],
   "metadata": {
    "collapsed": false
   }
  },
  {
   "cell_type": "code",
   "execution_count": 46,
   "metadata": {},
   "outputs": [],
   "source": [
    "wav_fpaths = male_wav_fpaths + female_wav_fpaths"
   ]
  },
  {
   "cell_type": "code",
   "execution_count": 47,
   "outputs": [
    {
     "name": "stdout",
     "output_type": "stream",
     "text": [
      "['./audio_samples/male/daniel-de-5.wav', './audio_samples/male/mike-en-7.wav', './audio_samples/male/martin-en-6.wav', './audio_samples/male/mike-de-8.wav', './audio_samples/male/mike-en-4.wav', './audio_samples/male/mike-de-3.wav', './audio_samples/male/daniel-en-5.wav', './audio_samples/male/daniel-de-1.wav', './audio_samples/male/daniel-de-2.wav']\n"
     ]
    }
   ],
   "source": [
    "print(wav_fpaths[0:9])"
   ],
   "metadata": {
    "collapsed": false
   }
  },
  {
   "cell_type": "markdown",
   "metadata": {},
   "source": [
    "### Obtain max length"
   ]
  },
  {
   "cell_type": "code",
   "execution_count": 48,
   "metadata": {
    "ExecuteTime": {
     "end_time": "2020-02-27T02:10:05.826382Z",
     "start_time": "2020-02-27T02:10:05.814670Z"
    }
   },
   "outputs": [
    {
     "name": "stdout",
     "output_type": "stream",
     "text": [
      "44100\n"
     ]
    }
   ],
   "source": [
    "sample_rate = librosa.core.get_samplerate(wav_fpaths[0])\n",
    "print(sample_rate)"
   ]
  },
  {
   "cell_type": "code",
   "execution_count": 49,
   "metadata": {
    "ExecuteTime": {
     "end_time": "2020-02-27T01:57:58.382200Z",
     "start_time": "2020-02-27T01:57:40.727153Z"
    }
   },
   "outputs": [
    {
     "name": "stdout",
     "output_type": "stream",
     "text": [
      "0.9999583333333333\n"
     ]
    }
   ],
   "source": [
    "# max_duration = get_max_duration(wav_fpaths) # this takes a while to run as processes 30k audio files\n",
    "max_duration = 0.9999583333333333\n",
    "print(max_duration)"
   ]
  },
  {
   "cell_type": "code",
   "execution_count": 50,
   "metadata": {
    "ExecuteTime": {
     "end_time": "2020-02-27T02:10:08.292887Z",
     "start_time": "2020-02-27T02:10:08.286744Z"
    }
   },
   "outputs": [
    {
     "name": "stdout",
     "output_type": "stream",
     "text": [
      "44098\n"
     ]
    }
   ],
   "source": [
    "max_samples = int(max_duration * sample_rate)\n",
    "print(max_samples)"
   ]
  },
  {
   "cell_type": "markdown",
   "metadata": {},
   "source": [
    "## Output MFC JPEGs"
   ]
  },
  {
   "cell_type": "code",
   "execution_count": 59,
   "metadata": {},
   "outputs": [],
   "source": [
    "mfc_dataset_dir = 'mfc_dataset_train_test'"
   ]
  },
  {
   "cell_type": "code",
   "execution_count": 60,
   "metadata": {
    "ExecuteTime": {
     "end_time": "2020-02-27T02:44:57.437162Z",
     "start_time": "2020-02-27T02:31:55.586821Z"
    }
   },
   "outputs": [
    {
     "data": {
      "text/plain": "  0%|          | 0/60 [00:00<?, ?it/s]",
      "application/vnd.jupyter.widget-view+json": {
       "version_major": 2,
       "version_minor": 0,
       "model_id": "a698c4cd64734c40ae6894ffc4093f9e"
      }
     },
     "metadata": {},
     "output_type": "display_data"
    },
    {
     "data": {
      "text/plain": "<Figure size 640x480 with 1 Axes>",
      "image/png": "[encoded data removed]"
     },
     "metadata": {},
     "output_type": "display_data"
    }
   ],
   "source": [
    "import matplotlib.pyplot as plt\n",
    "\n",
    "np.random.seed(1)\n",
    "for i, fp in tqdm_notebook(enumerate(male_wav_fpaths), total=len(male_wav_fpaths)):\n",
    "    _, fn = os.path.split(fp)\n",
    "    if not fn.endswith('wav'):\n",
    "        continue\n",
    "    _, input = scipy.io.wavfile.read(fp)\n",
    "    input = pad_input(input, target_len=max_samples)\n",
    "    mfc = pipeline(sample_rate, input)\n",
    "    if i == 0:\n",
    "        plt.imshow(mfc)\n",
    "    plt.imsave(f'{mfc_dataset_dir}/test/male/{fn.replace(\"wav\", \"jpg\")}', mfc)"
   ]
  },
  {
   "cell_type": "code",
   "execution_count": 61,
   "metadata": {},
   "outputs": [
    {
     "data": {
      "text/plain": "  0%|          | 0/81 [00:00<?, ?it/s]",
      "application/vnd.jupyter.widget-view+json": {
       "version_major": 2,
       "version_minor": 0,
       "model_id": "869aaf9b12d645f19b329da5adffe5a7"
      }
     },
     "metadata": {},
     "output_type": "display_data"
    },
    {
     "name": "stdout",
     "output_type": "stream",
     "text": [
      "Processing lele-pt-4.wav\n",
      "Processing lele-pt-0.wav\n",
      "Processing sandra-en-0.wav\n",
      "Processing sandra-de-0.wav\n",
      "Processing kika-en-3.wav\n",
      "Processing kika-pt-6.wav\n",
      "Processing lele-en-3.wav\n",
      "Processing sandra-de-6.wav\n",
      "Processing lele-de-7.wav\n",
      "Processing lele-pt-5.wav\n",
      "Processing lele-de-3.wav\n",
      "Processing kika-en-5.wav\n",
      "Processing lele-pt-8.wav\n",
      "Processing lele-de-6.wav\n",
      "Processing sandra-en-3.wav\n",
      "Processing sandra-de-2.wav\n",
      "Processing kika-pt-9.wav\n",
      "Processing kika-pt-1.wav\n",
      "Processing sandra-de-5.wav\n",
      "Processing sandra-de-4.wav\n",
      "Processing sandra-de-3.wav\n",
      "Processing sandra-it-1.wav\n",
      "Processing lele-pt-2.wav\n",
      "Processing sandra-en-7.wav\n",
      "Processing kika-en-1.wav\n",
      "Processing kika-pt-2.wav\n",
      "Processing lele-en-1.wav\n",
      "Processing lele-pt-3.wav\n",
      "Processing sandra-en-6.wav\n",
      "Processing sandra-it-9.wav\n",
      "Processing kika-en-6.wav\n",
      "Processing lele-de-0.wav\n",
      "Processing kika-pt-8.wav\n",
      "Processing lele-de-1.wav\n",
      "Processing kika-en-8.wav\n",
      "Processing sandra-en-4.wav\n",
      "Processing sandra-en-8.wav\n",
      "Processing kika-en-4.wav\n",
      "Processing lele-pt-6.wav\n",
      "Processing lele-en-6.wav\n",
      "Processing sandra-de-8.wav\n",
      "Processing sandra-it-2.wav\n",
      "Processing kika-pt-4.wav\n",
      "Processing sandra-it-3.wav\n",
      "Processing lele-de-4.wav\n",
      "Processing kika-en-7.wav\n",
      "Processing sandra-en-5.wav\n",
      "Processing sandra-en-2.wav\n",
      "Processing sandra-it-7.wav\n",
      "Processing kika-pt-0.wav\n",
      "Processing sandra-it-8.wav\n",
      "Processing kika-en-9.wav\n",
      "Processing kika-en-2.wav\n",
      "Processing sandra-en-9.wav\n",
      "Processing lele-de-8.wav\n",
      "Processing lele-de-9.wav\n",
      "Processing lele-de-5.wav\n",
      "Processing sandra-it-0.wav\n",
      "Processing sandra-de-7.wav\n",
      "Processing kika-pt-7.wav\n",
      "Processing sandra-it-4.wav\n",
      "Processing sandra-de-1.wav\n",
      "Processing lele-en-0.wav\n",
      "Processing kika-en-0.wav\n",
      "Processing sandra-de-9.wav\n",
      "Processing lele-pt-7.wav\n",
      "Processing lele-en-2.wav\n",
      "Processing lele-en-5.wav\n",
      "Processing lele-pt-1.wav\n",
      "Processing lele-pt-9.wav\n",
      "Processing sandra-it-6.wav\n",
      "Processing sandra-en-1.wav\n",
      "Processing kika-pt-3.wav\n",
      "Processing lele-en-7.wav\n",
      "Processing sandra-it-5.wav\n",
      "Processing lele-de-2.wav\n",
      "Processing lele-en-4.wav\n",
      "Processing lele-en-9.wav\n",
      "Processing lele-en-8.wav\n",
      "Processing kika-pt-5.wav\n"
     ]
    },
    {
     "data": {
      "text/plain": "<Figure size 640x480 with 1 Axes>",
      "image/png": "[encoded data removed]"
     },
     "metadata": {},
     "output_type": "display_data"
    }
   ],
   "source": [
    "np.random.seed(2)\n",
    "for i, fp in tqdm_notebook(enumerate(female_wav_fpaths), total=len(female_wav_fpaths)):\n",
    "    _, fn = os.path.split(fp)\n",
    "    if not fn.endswith('wav'):\n",
    "        continue\n",
    "    _, input = scipy.io.wavfile.read(fp)  # faster than librosa\n",
    "    input = pad_input(input, target_len=max_samples)\n",
    "    mfc = pipeline(sample_rate, input)\n",
    "    if i == 0:\n",
    "        plt.imshow(mfc)\n",
    "    plt.imsave(f'{mfc_dataset_dir}/test/female/{fn.replace(\"wav\", \"jpg\")}', mfc)"
   ]
  },
  {
   "cell_type": "code",
   "execution_count": null,
   "outputs": [],
   "source": [],
   "metadata": {
    "collapsed": false
   }
  }
 ],
 "metadata": {
  "kernelspec": {
   "display_name": "Python 3",
   "language": "python",
   "name": "python3"
  },
  "language_info": {
   "codemirror_mode": {
    "name": "ipython",
    "version": 3
   },
   "file_extension": ".py",
   "mimetype": "text/x-python",
   "name": "python",
   "nbconvert_exporter": "python",
   "pygments_lexer": "ipython3",
   "version": "3.7.3"
  },
  "toc": {
   "base_numbering": 1,
   "nav_menu": {},
   "number_sections": true,
   "sideBar": true,
   "skip_h1_title": false,
   "title_cell": "Table of Contents",
   "title_sidebar": "Contents",
   "toc_cell": false,
   "toc_position": {},
   "toc_section_display": true,
   "toc_window_display": false
  }
 },
 "nbformat": 4,
 "nbformat_minor": 4
}
