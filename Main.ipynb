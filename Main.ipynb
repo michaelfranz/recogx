{
 "cells": [
  {
   "cell_type": "code",
   "execution_count": 1,
   "outputs": [],
   "source": [
    "# We define the data transformations and loaders to load the images and their corresponding\n",
    "# labels from the training folder. We use the Adam optimizer and cross-entropy loss function for training.\n",
    "# Finally, we train the model for 10 epochs and save the model weights.\n",
    "# The training data is loaded using PyTorch's DataLoader, and the model is trained using the Adam optimizer and\n",
    "# cross-entropy loss. The trained model is then saved to a file for later use."
   ],
   "metadata": {
    "collapsed": false
   }
  },
  {
   "cell_type": "code",
   "execution_count": 4,
   "metadata": {
    "collapsed": true
   },
   "outputs": [],
   "source": [
    "import torch\n",
    "import torch.nn as nn\n",
    "import torch.optim as optim\n",
    "import torchvision.transforms as transforms\n",
    "import torchvision.datasets as datasets\n",
    "\n",
    "import matplotlib.pyplot as plt\n",
    "\n",
    "import numpy as np\n",
    "\n",
    "from model import GenderClassifier"
   ]
  },
  {
   "cell_type": "code",
   "execution_count": 5,
   "outputs": [],
   "source": [
    "# Define the data transformations and loaders\n",
    "transform = transforms.Compose([\n",
    "    transforms.ToTensor(),\n",
    "])\n",
    "\n",
    "train_set = datasets.ImageFolder('mfc_dataset_train_test/train', transform=transform)\n",
    "train_loader = torch.utils.data.DataLoader(train_set, batch_size=32, shuffle=False)\n",
    "classes = train_loader.dataset.classes\n",
    "\n",
    "device = ('cuda' if torch.cuda.is_available() else 'cpu')"
   ],
   "metadata": {
    "collapsed": false
   }
  },
  {
   "cell_type": "code",
   "execution_count": 6,
   "outputs": [
    {
     "name": "stdout",
     "output_type": "stream",
     "text": [
      "Feature batch shape: torch.Size([32, 3, 12, 98])\n",
      "Labels batch shape: torch.Size([32])\n"
     ]
    },
    {
     "data": {
      "text/plain": "<Figure size 640x480 with 1 Axes>",
      "image/png": "[encoded data removed]"
     },
     "metadata": {},
     "output_type": "display_data"
    },
    {
     "name": "stdout",
     "output_type": "stream",
     "text": [
      "Label: 0 = female\n"
     ]
    }
   ],
   "source": [
    "train_features, train_labels = next(iter(train_loader))\n",
    "print(f\"Feature batch shape: {train_features.size()}\")\n",
    "print(f\"Labels batch shape: {train_labels.size()}\")\n",
    "img = np.einsum('cxy->xyc', train_features[0])\n",
    "plt.imshow(img)\n",
    "plt.show()\n",
    "label = 0\n",
    "print(f\"Label: {label} = {classes[label]}\")"
   ],
   "metadata": {
    "collapsed": false
   }
  },
  {
   "cell_type": "code",
   "execution_count": 25,
   "outputs": [],
   "source": [
    "def run_and_save_model(num_epochs, lr):\n",
    "    print(f'Running model with {num_epochs} epochs, learning rate {lr}')\n",
    "\n",
    "    # Initialize the model, loss function, and optimizer\n",
    "    model = GenderClassifier().to(device)\n",
    "    criterion = nn.CrossEntropyLoss()\n",
    "    optimizer = optim.Adam(model.parameters(), lr=lr)\n",
    "\n",
    "    # Train the model\n",
    "    for epoch in range(num_epochs):\n",
    "        running_loss = 0.0\n",
    "        for i, data in enumerate(train_loader, 0):\n",
    "            inputs, labels = data\n",
    "            optimizer.zero_grad()\n",
    "            outputs = model(inputs)\n",
    "            loss = criterion(outputs, labels)\n",
    "            loss.backward()\n",
    "            optimizer.step()\n",
    "            running_loss += loss.item()\n",
    "        print(f\"Epoch {epoch+1}, Loss: {running_loss/len(train_loader)}\")\n",
    "\n",
    "    # Save the model\n",
    "    torch.save(model.state_dict(), f'saved_model/weights_{num_epochs}_{lr}.pth')"
   ],
   "metadata": {
    "collapsed": false
   }
  },
  {
   "cell_type": "code",
   "execution_count": 26,
   "outputs": [
    {
     "name": "stdout",
     "output_type": "stream",
     "text": [
      "Running model with 5 epochs, learning rate 0.1\n",
      "Epoch 1, Loss: 46066.358215332606\n",
      "Epoch 2, Loss: 109834.44823484984\n",
      "Epoch 3, Loss: 5.9049184135424575\n",
      "Epoch 4, Loss: 0.44834160828626696\n",
      "Epoch 5, Loss: 0.4255729044866436\n",
      "Running model with 5 epochs, learning rate 0.01\n",
      "Epoch 1, Loss: 7.73413832442829\n",
      "Epoch 2, Loss: 4.07014569535423\n",
      "Epoch 3, Loss: 0.9939096380676172\n",
      "Epoch 4, Loss: 0.7102377264977644\n",
      "Epoch 5, Loss: 0.688475071717375\n",
      "Running model with 5 epochs, learning rate 0.001\n",
      "Epoch 1, Loss: 0.38760349041002073\n",
      "Epoch 2, Loss: 0.6570040906596722\n",
      "Epoch 3, Loss: 0.8608561529340549\n",
      "Epoch 4, Loss: 0.8066570597906082\n",
      "Epoch 5, Loss: 0.7270302599230514\n",
      "Running model with 10 epochs, learning rate 0.1\n",
      "Epoch 1, Loss: 46733.3678700604\n",
      "Epoch 2, Loss: 166624.82100650677\n",
      "Epoch 3, Loss: 11.504931243389224\n",
      "Epoch 4, Loss: 0.7503417594497428\n",
      "Epoch 5, Loss: 0.42504095195155867\n",
      "Epoch 6, Loss: 0.41967781520888997\n",
      "Epoch 7, Loss: 0.41865852698549844\n",
      "Epoch 8, Loss: 0.4180785935504523\n",
      "Epoch 9, Loss: 0.4176997861783273\n",
      "Epoch 10, Loss: 0.41743854731663516\n",
      "Running model with 10 epochs, learning rate 0.01\n",
      "Epoch 1, Loss: 5.722783109837196\n",
      "Epoch 2, Loss: 5.011090572070343\n",
      "Epoch 3, Loss: 0.7353360617158416\n",
      "Epoch 4, Loss: 0.639712183132244\n",
      "Epoch 5, Loss: 0.6916756082457095\n",
      "Epoch 6, Loss: 0.6947955284922268\n",
      "Epoch 7, Loss: 0.6908724857881047\n",
      "Epoch 8, Loss: 0.6914484704645297\n",
      "Epoch 9, Loss: 0.692007663436591\n",
      "Epoch 10, Loss: 0.6924184985911123\n",
      "Running model with 10 epochs, learning rate 0.001\n",
      "Epoch 1, Loss: 0.4597239598180977\n",
      "Epoch 2, Loss: 0.6220272139312394\n",
      "Epoch 3, Loss: 0.921606859102988\n",
      "Epoch 4, Loss: 0.693461626577682\n",
      "Epoch 5, Loss: 0.7007262586785582\n",
      "Epoch 6, Loss: 0.7040765746332966\n",
      "Epoch 7, Loss: 0.7056428350198763\n",
      "Epoch 8, Loss: 0.7063733725882948\n",
      "Epoch 9, Loss: 0.7066931360826706\n",
      "Epoch 10, Loss: 0.7067992769110317\n"
     ]
    }
   ],
   "source": [
    "for epochs in [5, 10]:\n",
    "    for lr in [0.1, 0.01, 0.001]:\n",
    "        run_and_save_model(epochs, lr)"
   ],
   "metadata": {
    "collapsed": false
   }
  },
  {
   "cell_type": "code",
   "execution_count": 27,
   "outputs": [],
   "source": [
    "def evaluate_model(num_epochs, lr):\n",
    "    print(f'Testing model with {num_epochs} epochs, learning rate {lr}')\n",
    "\n",
    "    # Test the model\n",
    "    model = GenderClassifier().to(device)\n",
    "    model.load_state_dict(torch.load(f'saved_model/weights_{num_epochs}_{lr}.pth'))\n",
    "    model.eval()\n",
    "\n",
    "    test_set = datasets.ImageFolder('mfc_dataset_train_test/test', transform=transform)\n",
    "    test_loader = torch.utils.data.DataLoader(test_set, batch_size=32, shuffle=False)\n",
    "\n",
    "    correct = 0\n",
    "    total = 0\n",
    "    with torch.no_grad():\n",
    "        for data, labels in test_loader:\n",
    "            outputs = model(data)\n",
    "            _, predicted = torch.max(outputs.data, 1)\n",
    "            total += labels.size(0)\n",
    "            correct += (predicted == labels).sum().item()\n",
    "\n",
    "    print('Accuracy: {} %'.format(100 * correct / total))"
   ],
   "metadata": {
    "collapsed": false
   }
  },
  {
   "cell_type": "code",
   "execution_count": 28,
   "outputs": [
    {
     "name": "stdout",
     "output_type": "stream",
     "text": [
      "Testing model with 5 epochs, learning rate 0.1\n",
      "Accuracy: 50.0 %\n",
      "Testing model with 5 epochs, learning rate 0.01\n",
      "Accuracy: 50.0 %\n",
      "Testing model with 5 epochs, learning rate 0.001\n",
      "Accuracy: 50.0 %\n",
      "Testing model with 10 epochs, learning rate 0.1\n",
      "Accuracy: 50.0 %\n",
      "Testing model with 10 epochs, learning rate 0.01\n",
      "Accuracy: 50.0 %\n",
      "Testing model with 10 epochs, learning rate 0.001\n",
      "Accuracy: 50.0 %\n"
     ]
    }
   ],
   "source": [
    "for epochs in [5, 10]:\n",
    "    for lr in [0.1, 0.01, 0.001]:\n",
    "        evaluate_model(epochs, lr)"
   ],
   "metadata": {
    "collapsed": false
   }
  },
  {
   "cell_type": "code",
   "execution_count": null,
   "outputs": [],
   "source": [],
   "metadata": {
    "collapsed": false
   }
  }
 ],
 "metadata": {
  "kernelspec": {
   "display_name": "Python 3",
   "language": "python",
   "name": "python3"
  },
  "language_info": {
   "codemirror_mode": {
    "name": "ipython",
    "version": 2
   },
   "file_extension": ".py",
   "mimetype": "text/x-python",
   "name": "python",
   "nbconvert_exporter": "python",
   "pygments_lexer": "ipython2",
   "version": "2.7.6"
  }
 },
 "nbformat": 4,
 "nbformat_minor": 0
}
