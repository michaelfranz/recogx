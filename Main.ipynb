{
 "cells": [
  {
   "cell_type": "code",
   "execution_count": 6,
   "outputs": [],
   "source": [
    "# We define the data transformations and loaders to load the images and their corresponding\n",
    "# labels from the training folder. We use the Adam optimizer and cross-entropy loss function for training.\n",
    "# Finally, we train the model for 10 epochs and save the model weights.\n",
    "# The training data is loaded using PyTorch's DataLoader, and the model is trained using the Adam optimizer and\n",
    "# cross-entropy loss. The trained model is then saved to a file for later use."
   ],
   "metadata": {
    "collapsed": false
   }
  },
  {
   "cell_type": "code",
   "execution_count": 7,
   "metadata": {
    "collapsed": true
   },
   "outputs": [],
   "source": [
    "import torch\n",
    "import torch.nn as nn\n",
    "import torch.optim as optim\n",
    "import torchvision.transforms as transforms\n",
    "import torchvision.datasets as datasets\n",
    "\n",
    "import matplotlib.pyplot as plt\n",
    "\n",
    "import numpy as np\n",
    "\n",
    "from model import GenderClassifier"
   ]
  },
  {
   "cell_type": "code",
   "execution_count": 8,
   "outputs": [],
   "source": [
    "# Define the data transformations and loaders\n",
    "transform = transforms.Compose([\n",
    "    transforms.ToTensor(),\n",
    "])\n",
    "\n",
    "train_set = datasets.ImageFolder('mfc_dataset_train_test/train', transform=transform)\n",
    "train_loader = torch.utils.data.DataLoader(train_set, batch_size=32, shuffle=False)\n",
    "classes = train_loader.dataset.classes"
   ],
   "metadata": {
    "collapsed": false
   }
  },
  {
   "cell_type": "code",
   "execution_count": 9,
   "outputs": [
    {
     "name": "stdout",
     "output_type": "stream",
     "text": [
      "Feature batch shape: torch.Size([32, 3, 12, 98])\n",
      "Labels batch shape: torch.Size([32])\n"
     ]
    },
    {
     "data": {
      "text/plain": "<Figure size 432x288 with 1 Axes>",
      "image/png": "[encoded data removed]"
     },
     "metadata": {
      "needs_background": "light"
     },
     "output_type": "display_data"
    },
    {
     "name": "stdout",
     "output_type": "stream",
     "text": [
      "Label: 0 = female\n"
     ]
    }
   ],
   "source": [
    "train_features, train_labels = next(iter(train_loader))\n",
    "print(f\"Feature batch shape: {train_features.size()}\")\n",
    "print(f\"Labels batch shape: {train_labels.size()}\")\n",
    "img = np.einsum('cxy->xyc', train_features[0])\n",
    "plt.imshow(img)\n",
    "plt.show()\n",
    "label = 0\n",
    "print(f\"Label: {label} = {classes[label]}\")"
   ],
   "metadata": {
    "collapsed": false
   }
  },
  {
   "cell_type": "code",
   "execution_count": 14,
   "outputs": [],
   "source": [
    "device = ('cuda' if torch.cuda.is_available() else 'cpu')\n",
    "\n",
    "def run_and_evaluate_model(lr):\n",
    "    print(f'Running model with learning rate {lr}')\n",
    "\n",
    "    # Initialize the model, loss function, and optimizer\n",
    "    model = GenderClassifier().to(device)\n",
    "    criterion = nn.CrossEntropyLoss()\n",
    "    optimizer = optim.Adam(model.parameters(), lr=lr)\n",
    "\n",
    "    # Train the model\n",
    "    for epoch in range(20):\n",
    "        running_loss = 0.0\n",
    "        for i, data in enumerate(train_loader, 0):\n",
    "            inputs, labels = data\n",
    "            optimizer.zero_grad()\n",
    "            outputs = model(inputs)\n",
    "            loss = criterion(outputs, labels)\n",
    "            loss.backward()\n",
    "            optimizer.step()\n",
    "            running_loss += loss.item()\n",
    "        print(f\"Epoch {epoch+1}, Loss: {running_loss/len(train_loader)}\")\n",
    "\n",
    "    # Save the model\n",
    "    torch.save(model.state_dict(), f'saved_model/weights{lr}')\n",
    "\n",
    "    test_set = datasets.ImageFolder('mfc_dataset_train_test/test', transform=transform)\n",
    "    test_loader = torch.utils.data.DataLoader(train_set, batch_size=32, shuffle=False)\n",
    "\n",
    "    correct = 0\n",
    "    total = 0\n",
    "    with torch.no_grad():\n",
    "        for data, labels in test_loader:\n",
    "            outputs = model(data)\n",
    "            _, predicted = torch.max(outputs.data, 1)\n",
    "            total += labels.size(0)\n",
    "            correct += (predicted == labels).sum().item()\n",
    "\n",
    "    print('Accuracy: {} %'.format(100 * correct / total))"
   ],
   "metadata": {
    "collapsed": false
   }
  },
  {
   "cell_type": "code",
   "execution_count": 15,
   "outputs": [
    {
     "name": "stdout",
     "output_type": "stream",
     "text": [
      "Running model with learning rate 0.1\n",
      "Epoch 1, Loss: 9530.017777619441\n",
      "Epoch 2, Loss: 36781.85\n",
      "Epoch 3, Loss: 571.2580669528024\n",
      "Epoch 4, Loss: 0.22180866273201535\n",
      "Epoch 5, Loss: 0.20298504572093953\n",
      "Epoch 6, Loss: 0.20392853445850778\n",
      "Epoch 7, Loss: 0.2046178752936345\n",
      "Epoch 8, Loss: 0.20492830631307637\n",
      "Epoch 9, Loss: 0.20506436264685665\n",
      "Epoch 10, Loss: 0.20512363659373173\n",
      "Epoch 11, Loss: 0.2051495619798079\n",
      "Epoch 12, Loss: 0.2051609145537562\n",
      "Epoch 13, Loss: 0.20516561860971463\n",
      "Epoch 14, Loss: 0.20516761537757702\n",
      "Epoch 15, Loss: 0.20516847691510337\n",
      "Epoch 16, Loss: 0.205168953256992\n",
      "Epoch 17, Loss: 0.20516907115195257\n",
      "Epoch 18, Loss: 0.2051691508688964\n",
      "Epoch 19, Loss: 0.20516917922658226\n",
      "Epoch 20, Loss: 0.20516921729485815\n",
      "Accuracy: 79.16666666666667 %\n",
      "Running model with learning rate 0.01\n",
      "Epoch 1, Loss: 4.07206472214063\n",
      "Epoch 2, Loss: 3.936238265021959\n",
      "Epoch 3, Loss: 0.3188653849065304\n",
      "Epoch 4, Loss: 0.328089708622545\n",
      "Epoch 5, Loss: 0.3876932323301832\n",
      "Epoch 6, Loss: 0.41244597066442173\n",
      "Epoch 7, Loss: 0.4166593767106533\n",
      "Epoch 8, Loss: 0.4186918645898501\n",
      "Epoch 9, Loss: 0.41973594994843005\n",
      "Epoch 10, Loss: 0.42028087297578653\n",
      "Epoch 11, Loss: 0.42056750059127807\n",
      "Epoch 12, Loss: 0.42071891656021276\n",
      "Epoch 13, Loss: 0.4207991015613079\n",
      "Epoch 14, Loss: 0.42084154837330184\n",
      "Epoch 15, Loss: 0.42086425712207953\n",
      "Epoch 16, Loss: 0.4208759724746148\n",
      "Epoch 17, Loss: 0.42088229711850483\n",
      "Epoch 18, Loss: 0.4208858665674925\n",
      "Epoch 19, Loss: 0.420887637903293\n",
      "Epoch 20, Loss: 0.4208886103183031\n",
      "Accuracy: 79.16666666666667 %\n",
      "Running model with learning rate 0.001\n",
      "Epoch 1, Loss: 0.18816659732353946\n",
      "Epoch 2, Loss: 0.26135159366196675\n",
      "Epoch 3, Loss: 0.4065591514048477\n",
      "Epoch 4, Loss: 0.507326286782821\n",
      "Epoch 5, Loss: 0.508496078401804\n",
      "Epoch 6, Loss: 0.5085949431757132\n",
      "Epoch 7, Loss: 0.5088084677855174\n",
      "Epoch 8, Loss: 0.5090700729290645\n",
      "Epoch 9, Loss: 0.4858255580016337\n",
      "Epoch 10, Loss: 0.4972141130461718\n",
      "Epoch 11, Loss: 0.46063799080557444\n",
      "Epoch 12, Loss: 0.5548061905205249\n",
      "Epoch 13, Loss: 0.505851445744435\n",
      "Epoch 14, Loss: 0.5028174955050151\n",
      "Epoch 15, Loss: 0.5008716980020205\n",
      "Epoch 16, Loss: 0.4998576193054517\n",
      "Epoch 17, Loss: 0.5001540144085884\n",
      "Epoch 18, Loss: 0.5015258751511574\n",
      "Epoch 19, Loss: 0.5034074226220449\n",
      "Epoch 20, Loss: 0.5053863572478294\n",
      "Accuracy: 79.16666666666667 %\n"
     ]
    }
   ],
   "source": [
    "for lr in [0.1, 0.01, 0.001]:\n",
    "    run_and_evaluate_model(lr)\n"
   ],
   "metadata": {
    "collapsed": false
   }
  },
  {
   "cell_type": "code",
   "execution_count": null,
   "outputs": [],
   "source": [],
   "metadata": {
    "collapsed": false
   }
  }
 ],
 "metadata": {
  "kernelspec": {
   "display_name": "Python 3",
   "language": "python",
   "name": "python3"
  },
  "language_info": {
   "codemirror_mode": {
    "name": "ipython",
    "version": 2
   },
   "file_extension": ".py",
   "mimetype": "text/x-python",
   "name": "python",
   "nbconvert_exporter": "python",
   "pygments_lexer": "ipython2",
   "version": "2.7.6"
  }
 },
 "nbformat": 4,
 "nbformat_minor": 0
}
