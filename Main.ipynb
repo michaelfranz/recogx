{
 "cells": [
  {
   "cell_type": "code",
   "execution_count": 1,
   "outputs": [],
   "source": [
    "# We define the data transformations and loaders to load the images and their corresponding\n",
    "# labels from the training folder. We use the Adam optimizer and cross-entropy loss function for training.\n",
    "# Finally, we train the model for 10 epochs and save the model weights.\n",
    "# The training data is loaded using PyTorch's DataLoader, and the model is trained using the Adam optimizer and\n",
    "# cross-entropy loss. The trained model is then saved to a file for later use."
   ],
   "metadata": {
    "collapsed": false
   }
  },
  {
   "cell_type": "code",
   "execution_count": 2,
   "metadata": {
    "collapsed": true
   },
   "outputs": [],
   "source": [
    "import torch\n",
    "import torch.nn as nn\n",
    "import torch.optim as optim\n",
    "import torchvision.transforms as transforms\n",
    "import torchvision.datasets as datasets\n",
    "\n",
    "import matplotlib.pyplot as plt\n",
    "\n",
    "from model import GenderClassifier"
   ]
  },
  {
   "cell_type": "code",
   "execution_count": 3,
   "outputs": [],
   "source": [
    "# Define the data transformations and loaders\n",
    "transform = transforms.Compose([\n",
    "    transforms.Resize((12, 98)),\n",
    "    transforms.Grayscale(num_output_channels=1),\n",
    "    transforms.ToTensor(),\n",
    "])\n",
    "\n",
    "train_set = datasets.ImageFolder('mfc_dataset_train_test/train', transform=transform)\n",
    "train_loader = torch.utils.data.DataLoader(train_set, batch_size=32, shuffle=False)\n",
    "classes = train_loader.dataset.classes"
   ],
   "metadata": {
    "collapsed": false
   }
  },
  {
   "cell_type": "code",
   "execution_count": 4,
   "outputs": [
    {
     "name": "stdout",
     "output_type": "stream",
     "text": [
      "Feature batch shape: torch.Size([32, 1, 12, 98])\n",
      "Labels batch shape: torch.Size([32])\n"
     ]
    },
    {
     "data": {
      "text/plain": "<Figure size 432x288 with 1 Axes>",
      "image/png": "[encoded data removed]"
     },
     "metadata": {
      "needs_background": "light"
     },
     "output_type": "display_data"
    },
    {
     "name": "stdout",
     "output_type": "stream",
     "text": [
      "Label: 0 = female\n"
     ]
    }
   ],
   "source": [
    "train_features, train_labels = next(iter(train_loader))\n",
    "print(f\"Feature batch shape: {train_features.size()}\")\n",
    "print(f\"Labels batch shape: {train_labels.size()}\")\n",
    "img = train_features[0].squeeze()\n",
    "label = train_labels[0]\n",
    "plt.imshow(img, cmap=\"gray\")\n",
    "plt.show()\n",
    "print(f\"Label: {label} = {classes[label]}\")"
   ],
   "metadata": {
    "collapsed": false
   }
  },
  {
   "cell_type": "code",
   "execution_count": 7,
   "outputs": [
    {
     "name": "stdout",
     "output_type": "stream",
     "text": [
      "Epoch 1, Loss: 0.3580154614376688\n",
      "Epoch 2, Loss: 1.0831500261355513\n",
      "Epoch 3, Loss: 0.6995161408052658\n",
      "Epoch 4, Loss: 0.6992301919970649\n",
      "Epoch 5, Loss: 0.6993988961838304\n",
      "Epoch 6, Loss: 0.6996186049982381\n",
      "Epoch 7, Loss: 0.6998278005435444\n",
      "Epoch 8, Loss: 0.7000098093249165\n",
      "Epoch 9, Loss: 0.7001556527500336\n",
      "Epoch 10, Loss: 0.7002681328084903\n",
      "Epoch 11, Loss: 0.7003534712349645\n",
      "Epoch 12, Loss: 0.7004175161401304\n",
      "Epoch 13, Loss: 0.7004652769801716\n",
      "Epoch 14, Loss: 0.7005007156548789\n",
      "Epoch 15, Loss: 0.7005268988517908\n",
      "Epoch 16, Loss: 0.700546230371006\n",
      "Epoch 17, Loss: 0.7005604747385262\n",
      "Epoch 18, Loss: 0.7005709261178209\n",
      "Epoch 19, Loss: 0.7005786425389421\n",
      "Epoch 20, Loss: 0.7005842916500835\n"
     ]
    }
   ],
   "source": [
    "# Initialize the model, loss function, and optimizer\n",
    "device = ('cuda' if torch.cuda.is_available() else 'cpu')\n",
    "model = GenderClassifier().to(device)\n",
    "criterion = nn.CrossEntropyLoss()\n",
    "optimizer = optim.Adam(model.parameters())\n",
    "\n",
    "# Train the model\n",
    "for epoch in range(20):\n",
    "    running_loss = 0.0\n",
    "    for i, data in enumerate(train_loader, 0):\n",
    "        inputs, labels = data\n",
    "        optimizer.zero_grad()\n",
    "        outputs = model(inputs)\n",
    "        loss = criterion(outputs, labels)\n",
    "        loss.backward()\n",
    "        optimizer.step()\n",
    "        running_loss += loss.item()\n",
    "    print(f\"Epoch {epoch+1}, Loss: {running_loss/len(train_loader)}\")\n",
    "\n",
    "# Save the model\n",
    "torch.save(model.state_dict(), 'saved_model/weights')"
   ],
   "metadata": {
    "collapsed": false
   }
  },
  {
   "cell_type": "code",
   "execution_count": 8,
   "outputs": [
    {
     "name": "stdout",
     "output_type": "stream",
     "text": [
      "Accuracy: 50.0 %\n"
     ]
    }
   ],
   "source": [
    "test_set = datasets.ImageFolder('mfc_dataset_train_test/test', transform=transform)\n",
    "test_loader = torch.utils.data.DataLoader(train_set, batch_size=32, shuffle=False)\n",
    "\n",
    "correct = 0\n",
    "total = 0\n",
    "with torch.no_grad():\n",
    "    for data, labels in test_loader:\n",
    "        outputs = model(data)\n",
    "        _, predicted = torch.max(outputs.data, 1)\n",
    "        total += labels.size(0)\n",
    "        correct += (predicted == labels).sum().item()\n",
    "\n",
    "print('Accuracy: {} %'.format(100 * correct / total))"
   ],
   "metadata": {
    "collapsed": false
   }
  },
  {
   "cell_type": "code",
   "execution_count": null,
   "outputs": [],
   "source": [],
   "metadata": {
    "collapsed": false
   }
  }
 ],
 "metadata": {
  "kernelspec": {
   "display_name": "Python 3",
   "language": "python",
   "name": "python3"
  },
  "language_info": {
   "codemirror_mode": {
    "name": "ipython",
    "version": 2
   },
   "file_extension": ".py",
   "mimetype": "text/x-python",
   "name": "python",
   "nbconvert_exporter": "python",
   "pygments_lexer": "ipython2",
   "version": "2.7.6"
  }
 },
 "nbformat": 4,
 "nbformat_minor": 0
}
