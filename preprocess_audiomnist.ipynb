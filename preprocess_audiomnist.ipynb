{
 "cells": [
  {
   "cell_type": "markdown",
   "metadata": {},
   "source": [
    "# Preprocess WAVs into mel-frequency cepstrum (MFC) JPEGs\n",
    "This script is used to convert audio files from the AudioMNIST dataset, which are in the wav format, into MFC images.\n",
    "The resulting images are used to train a CNN to recognise the speaker's gender. Credits: Some of the following  was inspired by project https://github.com/zhihanyang2022/gender_audio_classification by Zhihan Yang. Yang's original script produced images designed for input into ResNet. This script produces RGB images of dimension 98x12. Additional adjustments were made to the code so the code outputs no longer depends on a function, which was deprecated in SciPy since SciPy version 1.3."
   ]
  },
  {
   "cell_type": "markdown",
   "metadata": {},
   "source": [
    "## Import packages"
   ]
  },
  {
   "cell_type": "code",
   "execution_count": 32,
   "metadata": {
    "ExecuteTime": {
     "end_time": "2020-02-27T02:25:14.546881Z",
     "start_time": "2020-02-27T02:25:14.533643Z"
    }
   },
   "outputs": [],
   "source": [
    "import json\n",
    "import os\n",
    "import warnings\n",
    "\n",
    "import librosa\n",
    "import numpy as np\n",
    "import scipy.io.wavfile\n",
    "from tqdm import tqdm_notebook\n",
    "import matplotlib.pyplot as plt\n",
    "\n",
    "from preprocess_mfc_util import audio_to_mfc\n",
    "\n",
    "warnings.filterwarnings('ignore')"
   ]
  },
  {
   "cell_type": "markdown",
   "metadata": {},
   "source": [
    "## Obtain file paths of AudioMNIST wav files"
   ]
  },
  {
   "cell_type": "code",
   "execution_count": 33,
   "metadata": {
    "ExecuteTime": {
     "end_time": "2020-02-27T01:45:39.535864Z",
     "start_time": "2020-02-27T01:45:39.530451Z"
    }
   },
   "outputs": [],
   "source": [
    "# git clone https://github.com/soerenab/AudioMNIST into adjacent folder\n",
    "audio_dir = '../AudioMNIST/data'\n",
    "audio_meta_path = f'{audio_dir}/audioMNIST_meta.txt' # audio meta data (labels)"
   ]
  },
  {
   "cell_type": "code",
   "execution_count": 34,
   "metadata": {
    "ExecuteTime": {
     "end_time": "2020-02-27T01:45:39.547669Z",
     "start_time": "2020-02-27T01:45:39.539703Z"
    }
   },
   "outputs": [],
   "source": [
    "with open(audio_meta_path) as json_file:\n",
    "    audio_meta = json.load(json_file)"
   ]
  },
  {
   "cell_type": "code",
   "execution_count": 35,
   "metadata": {
    "ExecuteTime": {
     "end_time": "2020-02-27T01:45:39.569559Z",
     "start_time": "2020-02-27T01:45:39.553006Z"
    }
   },
   "outputs": [],
   "source": [
    "male_idxs, female_idxs = [], []\n",
    "for idx, info in audio_meta.items():\n",
    "    if info['gender'].lower() == 'male':\n",
    "        male_idxs.append(idx)\n",
    "    elif info['gender'].lower() == 'female':\n",
    "        female_idxs.append(idx)"
   ]
  },
  {
   "cell_type": "code",
   "execution_count": 36,
   "outputs": [
    {
     "name": "stdout",
     "output_type": "stream",
     "text": [
      "Total male speakers: 48\n",
      "Total female speakers: 12\n"
     ]
    }
   ],
   "source": [
    "print(f'Total male speakers: {len(male_idxs)}\\nTotal female speakers: {len(female_idxs)}')"
   ],
   "metadata": {
    "collapsed": false
   }
  },
  {
   "cell_type": "code",
   "execution_count": 37,
   "metadata": {
    "ExecuteTime": {
     "end_time": "2020-02-27T01:45:39.586694Z",
     "start_time": "2020-02-27T01:45:39.578440Z"
    }
   },
   "outputs": [],
   "source": [
    "def get_wav_paths_from_speaker_indices(idxs):\n",
    "    wav_fpaths = []\n",
    "    for idx in idxs:\n",
    "        for fname in os.listdir(f'{audio_dir}/{idx}'):\n",
    "            wav_fpaths.append(f'{audio_dir}/{idx}/{fname}')\n",
    "    return wav_fpaths"
   ]
  },
  {
   "cell_type": "code",
   "execution_count": 38,
   "metadata": {
    "ExecuteTime": {
     "end_time": "2020-02-27T01:45:39.841611Z",
     "start_time": "2020-02-27T01:45:39.595982Z"
    }
   },
   "outputs": [],
   "source": [
    "male_wav_fpaths = sorted(get_wav_paths_from_speaker_indices(male_idxs))\n",
    "female_wav_fpaths = sorted(get_wav_paths_from_speaker_indices(female_idxs))"
   ]
  },
  {
   "cell_type": "code",
   "execution_count": 39,
   "metadata": {},
   "outputs": [],
   "source": [
    "# Ensure same order across runs\n",
    "np.random.seed(13)\n",
    "np.random.shuffle(male_wav_fpaths)\n",
    "np.random.shuffle(female_wav_fpaths)"
   ]
  },
  {
   "cell_type": "code",
   "execution_count": 40,
   "metadata": {},
   "outputs": [],
   "source": [
    "wav_fpaths = male_wav_fpaths + female_wav_fpaths"
   ]
  },
  {
   "cell_type": "code",
   "execution_count": 41,
   "outputs": [
    {
     "name": "stdout",
     "output_type": "stream",
     "text": [
      "['../AudioMNIST/data/08/8_08_17.wav', '../AudioMNIST/data/37/0_37_9.wav', '../AudioMNIST/data/35/5_35_8.wav', '../AudioMNIST/data/31/3_31_20.wav', '../AudioMNIST/data/24/9_24_18.wav', '../AudioMNIST/data/09/2_09_11.wav', '../AudioMNIST/data/15/4_15_20.wav', '../AudioMNIST/data/01/7_01_25.wav', '../AudioMNIST/data/38/5_38_28.wav']\n"
     ]
    }
   ],
   "source": [
    "print(wav_fpaths[0:9])"
   ],
   "metadata": {
    "collapsed": false
   }
  },
  {
   "cell_type": "markdown",
   "metadata": {},
   "source": [
    "### Obtain max length of input sample"
   ]
  },
  {
   "cell_type": "code",
   "execution_count": 42,
   "metadata": {
    "ExecuteTime": {
     "end_time": "2020-02-27T02:10:05.826382Z",
     "start_time": "2020-02-27T02:10:05.814670Z"
    }
   },
   "outputs": [
    {
     "name": "stdout",
     "output_type": "stream",
     "text": [
      "48000\n"
     ]
    }
   ],
   "source": [
    "sample_rate = librosa.core.get_samplerate(wav_fpaths[0])\n",
    "print(sample_rate)"
   ]
  },
  {
   "cell_type": "code",
   "execution_count": 43,
   "metadata": {
    "ExecuteTime": {
     "end_time": "2020-02-27T01:57:58.382200Z",
     "start_time": "2020-02-27T01:57:40.727153Z"
    }
   },
   "outputs": [
    {
     "name": "stdout",
     "output_type": "stream",
     "text": [
      "0.9999583333333333\n"
     ]
    }
   ],
   "source": [
    "max_duration = 0.9999583333333333 # slightly less than 1s\n",
    "print(max_duration)"
   ]
  },
  {
   "cell_type": "code",
   "execution_count": 44,
   "metadata": {
    "ExecuteTime": {
     "end_time": "2020-02-27T02:10:08.292887Z",
     "start_time": "2020-02-27T02:10:08.286744Z"
    }
   },
   "outputs": [
    {
     "name": "stdout",
     "output_type": "stream",
     "text": [
      "47998\n"
     ]
    }
   ],
   "source": [
    "max_samples = int(max_duration * sample_rate)\n",
    "print(max_samples)"
   ]
  },
  {
   "cell_type": "markdown",
   "metadata": {},
   "source": [
    "## Output MFC JPEGs"
   ]
  },
  {
   "cell_type": "code",
   "execution_count": 45,
   "metadata": {},
   "outputs": [],
   "source": [
    "mfc_dataset_dir = 'mfc_dataset'"
   ]
  },
  {
   "cell_type": "markdown",
   "metadata": {},
   "source": [
    "Create a one-to-one mapping between MFC JPEG names and WAV names."
   ]
  },
  {
   "cell_type": "code",
   "execution_count": 46,
   "metadata": {},
   "outputs": [
    {
     "data": {
      "text/plain": "  0%|          | 0/24000 [00:00<?, ?it/s]",
      "application/vnd.jupyter.widget-view+json": {
       "version_major": 2,
       "version_minor": 0,
       "model_id": "5783072fe4b24e23954cd093c102346b"
      }
     },
     "metadata": {},
     "output_type": "display_data"
    },
    {
     "data": {
      "text/plain": "  0%|          | 0/6000 [00:00<?, ?it/s]",
      "application/vnd.jupyter.widget-view+json": {
       "version_major": 2,
       "version_minor": 0,
       "model_id": "7fb2ab3deba349169c2d5ca0b4cdbbfd"
      }
     },
     "metadata": {},
     "output_type": "display_data"
    }
   ],
   "source": [
    "male_idxs_to_wav_fpaths = {}\n",
    "for i, fp in tqdm_notebook(enumerate(male_wav_fpaths), total=len(male_wav_fpaths)):\n",
    "    male_idxs_to_wav_fpaths[f'{mfc_dataset_dir}/male_{i}.jpg'] = fp\n",
    "\n",
    "female_idxs_to_wav_fpaths = {}\n",
    "for i, fp in tqdm_notebook(enumerate(female_wav_fpaths), total=len(female_wav_fpaths)):\n",
    "    female_idxs_to_wav_fpaths[f'{mfc_dataset_dir}/female_{i}.jpg'] = fp"
   ]
  },
  {
   "cell_type": "code",
   "execution_count": 47,
   "metadata": {},
   "outputs": [],
   "source": [
    "with open('audio_to_mfc_maps/male_idxs_to_wav_fpaths.json', 'w+') as json_f:\n",
    "    json.dump(male_idxs_to_wav_fpaths, json_f)\n",
    "\n",
    "with open('audio_to_mfc_maps/female_idxs_to_wav_fpaths.json', 'w+') as json_f:\n",
    "    json.dump(female_idxs_to_wav_fpaths, json_f)"
   ]
  },
  {
   "cell_type": "code",
   "execution_count": 48,
   "metadata": {
    "ExecuteTime": {
     "end_time": "2020-02-27T02:44:57.437162Z",
     "start_time": "2020-02-27T02:31:55.586821Z"
    }
   },
   "outputs": [
    {
     "data": {
      "text/plain": "  0%|          | 0/24000 [00:00<?, ?it/s]",
      "application/vnd.jupyter.widget-view+json": {
       "version_major": 2,
       "version_minor": 0,
       "model_id": "3ffb8d9a9f3140babafc81aa45f37dd3"
      }
     },
     "metadata": {},
     "output_type": "display_data"
    },
    {
     "data": {
      "text/plain": "<Figure size 640x480 with 1 Axes>",
      "image/png": "[encoded data removed]"
     },
     "metadata": {},
     "output_type": "display_data"
    }
   ],
   "source": [
    "np.random.seed(1)\n",
    "for i, fp in tqdm_notebook(enumerate(male_wav_fpaths), total=len(male_wav_fpaths)):\n",
    "    _, audio_input = scipy.io.wavfile.read(fp)\n",
    "    mfc = audio_to_mfc(audio_input, sample_rate, max_samples)\n",
    "    if i == 0:\n",
    "        plt.imshow(mfc)\n",
    "    plt.imsave(f'{mfc_dataset_dir}/male_{i}.jpg', mfc)"
   ]
  },
  {
   "cell_type": "code",
   "execution_count": 49,
   "metadata": {},
   "outputs": [
    {
     "data": {
      "text/plain": "  0%|          | 0/6000 [00:00<?, ?it/s]",
      "application/vnd.jupyter.widget-view+json": {
       "version_major": 2,
       "version_minor": 0,
       "model_id": "634456f929a94773bd04fe3bcc27642c"
      }
     },
     "metadata": {},
     "output_type": "display_data"
    },
    {
     "data": {
      "text/plain": "<Figure size 640x480 with 1 Axes>",
      "image/png": "[encoded data removed]"
     },
     "metadata": {},
     "output_type": "display_data"
    }
   ],
   "source": [
    "np.random.seed(2)\n",
    "for i, fp in tqdm_notebook(enumerate(female_wav_fpaths), total=len(female_wav_fpaths)):\n",
    "    _, audio_input = scipy.io.wavfile.read(fp)  # faster than librosa\n",
    "    mfc = audio_to_mfc(audio_input, sample_rate, max_samples)\n",
    "    if i == 0:\n",
    "        plt.imshow(mfc)\n",
    "    plt.imsave(f'{mfc_dataset_dir}/female_{i}.jpg', mfc)"
   ]
  },
  {
   "cell_type": "code",
   "execution_count": null,
   "outputs": [],
   "source": [],
   "metadata": {
    "collapsed": false
   }
  }
 ],
 "metadata": {
  "kernelspec": {
   "display_name": "Python 3",
   "language": "python",
   "name": "python3"
  },
  "language_info": {
   "codemirror_mode": {
    "name": "ipython",
    "version": 3
   },
   "file_extension": ".py",
   "mimetype": "text/x-python",
   "name": "python",
   "nbconvert_exporter": "python",
   "pygments_lexer": "ipython3",
   "version": "3.7.3"
  },
  "toc": {
   "base_numbering": 1,
   "nav_menu": {},
   "number_sections": true,
   "sideBar": true,
   "skip_h1_title": false,
   "title_cell": "Table of Contents",
   "title_sidebar": "Contents",
   "toc_cell": false,
   "toc_position": {},
   "toc_section_display": true,
   "toc_window_display": false
  }
 },
 "nbformat": 4,
 "nbformat_minor": 4
}
